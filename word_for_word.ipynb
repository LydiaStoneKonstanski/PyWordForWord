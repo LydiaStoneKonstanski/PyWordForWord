{
 "cells": [
  {
   "cell_type": "code",
   "execution_count": 1,
   "id": "3545dcca-2b5b-4c74-ba21-5beee197237c",
   "metadata": {},
   "outputs": [],
   "source": [
    "import sys\n",
    "import numpy as np\n",
    "import pandas as pd\n",
    "import csv\n",
    "import json\n",
    "from lxml import objectify\n",
    "import pyarrow\n",
    "import openpyxl\n",
    "import xlrd\n",
    "from bs4 import BeautifulSoup\n",
    "import sqlalchemy as sqla\n",
    "import sqlite3\n",
    "import os\n",
    "from pathlib import Path"
   ]
  },
  {
   "cell_type": "code",
   "execution_count": 2,
   "id": "99c4019b-df0d-421f-b2ea-5189f7a82bf2",
   "metadata": {},
   "outputs": [],
   "source": [
    "conn = sqlite3.connect(\"word_for_word.sqlite\")\n",
    "# dataframe to sqlite will put blobs instead of integers if the column has large numbers\n",
    "# To fix this, register larger integer types\n",
    "sqlite3.register_adapter(np.int64, int)\n",
    "sqlite3.register_adapter(np.int32, int)"
   ]
  },
  {
   "cell_type": "code",
   "execution_count": 3,
   "id": "ae46fa93-156c-49e8-8aad-23c97b203571",
   "metadata": {},
   "outputs": [],
   "source": [
    "word_df = pd.DataFrame(columns= [\"File\", \"Words\"])"
   ]
  },
  {
   "cell_type": "code",
   "execution_count": 4,
   "id": "1dad3507-48e8-4544-873a-85dfdf379405",
   "metadata": {},
   "outputs": [],
   "source": [
    "for filename in Path(\"testdata\").iterdir():\n",
    "    if not filename.suffix == \".txt\":\n",
    "        continue\n",
    "    with open(filename, 'r') as file:\n",
    "        data = file.read()\n",
    "        ser = pd.Series(data.lower().split()).str.replace('[^a-zA-Zà-üÀ-Ü]', '', regex = True)\n",
    "        word_df = word_df._append([{\"File\": str(filename), \"Words\": word} for word in ser])"
   ]
  },
  {
   "cell_type": "code",
   "execution_count": 5,
   "id": "da8a7d13-f1e4-471c-b94a-c451d12aa156",
   "metadata": {},
   "outputs": [
    {
     "name": "stdout",
     "output_type": "stream",
     "text": [
      "                        File     Words\n",
      "0     testdata/testdata6.txt         p\n",
      "1     testdata/testdata6.txt   vergili\n",
      "2     testdata/testdata6.txt   maronis\n",
      "3     testdata/testdata6.txt  aeneidos\n",
      "4     testdata/testdata6.txt     liber\n",
      "..                       ...       ...\n",
      "683  testdata/testdata5a.txt          \n",
      "684  testdata/testdata5a.txt    approx\n",
      "685  testdata/testdata5a.txt          \n",
      "686  testdata/testdata5a.txt     lines\n",
      "687  testdata/testdata5a.txt   missing\n",
      "\n",
      "[163169 rows x 2 columns]\n"
     ]
    }
   ],
   "source": [
    "print(word_df)"
   ]
  },
  {
   "cell_type": "code",
   "execution_count": 6,
   "id": "d8eedd9f-11b7-483d-8bff-e4f5dca9c73f",
   "metadata": {},
   "outputs": [
    {
     "name": "stdout",
     "output_type": "stream",
     "text": [
      "                          Words                    \n",
      "                          count unique    top  freq\n",
      "File                                               \n",
      "testdata/testdata0.txt        2      2  hello     1\n",
      "testdata/testdata1.txt        6      4    zip     2\n",
      "testdata/testdata2.txt       52     38    the     6\n",
      "testdata/testdata3.txt    25643   3741    and   717\n",
      "testdata/testdata4.txt     1335    539    the    78\n",
      "testdata/testdata5a.txt     688    262    the    65\n",
      "testdata/testdata6.txt     5035   2904     et   166\n",
      "testdata/testdata7.txt   130408   7461    the  4842\n"
     ]
    }
   ],
   "source": [
    "basic_stats = word_df.groupby(\"File\", as_index=True).describe()\n",
    "print(basic_stats)"
   ]
  },
  {
   "cell_type": "code",
   "execution_count": 12,
   "id": "ef301bd5-b4a4-480d-a313-7de5eb19a5c6",
   "metadata": {},
   "outputs": [
    {
     "data": {
      "text/plain": [
       "8"
      ]
     },
     "execution_count": 12,
     "metadata": {},
     "output_type": "execute_result"
    }
   ],
   "source": [
    "word_df.groupby(\"File\", as_index=True).describe().to_sql(\"basic stats\", conn, if_exists= 'replace')"
   ]
  },
  {
   "cell_type": "code",
   "execution_count": 13,
   "id": "44043038-ee36-412a-bebc-3037e5145823",
   "metadata": {},
   "outputs": [],
   "source": [
    "conn.commit()"
   ]
  },
  {
   "cell_type": "code",
   "execution_count": 14,
   "id": "ba63354b-4e50-400c-8b61-7ad603beec9a",
   "metadata": {},
   "outputs": [],
   "source": [
    "cursor = conn.execute(\"SELECT * FROM 'basic stats'\")"
   ]
  },
  {
   "cell_type": "code",
   "execution_count": 15,
   "id": "d7779969-58e8-4f6e-958c-9ba37324bedc",
   "metadata": {},
   "outputs": [],
   "source": [
    "rows = cursor.fetchall()"
   ]
  },
  {
   "cell_type": "code",
   "execution_count": 16,
   "id": "ca2c73d6-8684-4bf4-9938-48f802403eb2",
   "metadata": {},
   "outputs": [
    {
     "data": {
      "text/plain": [
       "[('testdata/testdata0.txt', 2, 2, 'hello', 1),\n",
       " ('testdata/testdata1.txt', 6, 4, 'zip', 2),\n",
       " ('testdata/testdata2.txt', 52, 38, 'the', 6),\n",
       " ('testdata/testdata3.txt', 25643, 3741, 'and', 717),\n",
       " ('testdata/testdata4.txt', 1335, 539, 'the', 78),\n",
       " ('testdata/testdata5a.txt', 688, 262, 'the', 65),\n",
       " ('testdata/testdata6.txt', 5035, 2904, 'et', 166),\n",
       " ('testdata/testdata7.txt', 130408, 7461, 'the', 4842)]"
      ]
     },
     "execution_count": 16,
     "metadata": {},
     "output_type": "execute_result"
    }
   ],
   "source": [
    "rows"
   ]
  },
  {
   "cell_type": "markdown",
   "id": "70e2cd94-273e-44b1-b9b1-2e98afae017a",
   "metadata": {},
   "source": [
    "pd.read_sql(\"SELECT * FROM 'word_for_word\", db )"
   ]
  },
  {
   "cell_type": "raw",
   "id": "e81bad64-b455-4a69-b7fc-e384dc84292b",
   "metadata": {},
   "source": [
    "with conn:\n",
    "    cur = conn.cursor()\n",
    "    cur.execute(\"SELECT * FROM 'basic stats'\")\n",
    "    print(cur.fetchall())"
   ]
  },
  {
   "cell_type": "code",
   "execution_count": null,
   "id": "259ec388-3b9d-490e-9154-0d87a4baeb04",
   "metadata": {},
   "outputs": [],
   "source": []
  }
 ],
 "metadata": {
  "kernelspec": {
   "display_name": "Python 3 (ipykernel)",
   "language": "python",
   "name": "python3"
  },
  "language_info": {
   "codemirror_mode": {
    "name": "ipython",
    "version": 3
   },
   "file_extension": ".py",
   "mimetype": "text/x-python",
   "name": "python",
   "nbconvert_exporter": "python",
   "pygments_lexer": "ipython3",
   "version": "3.9.6"
  }
 },
 "nbformat": 4,
 "nbformat_minor": 5
}
